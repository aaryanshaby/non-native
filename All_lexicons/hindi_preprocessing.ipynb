{
 "cells": [
  {
   "cell_type": "code",
   "execution_count": 3,
   "metadata": {
    "pycharm": {
     "name": "#%%\n"
    }
   },
   "outputs": [],
   "source": [
    "#hindi lexicon preprocessing\n",
    "#split from 1st space, instead tab\n",
    "\n",
    "edited = open('GujaratiLexiconFinal.txt', 'w')\n",
    "with open('hindi_lexicon.txt') as f:\n",
    "    lines = f.readlines()\n",
    "    for line in lines:\n",
    "        lineElements = line.split()\n",
    "        ToWrite = []\n",
    "        for i in range(0,len(lineElements[0])):\n",
    "            if lineElements[0][i] == '(' or lineElements[0][i] == ')' or lineElements[0][i].isdigit():\n",
    "                continue\n",
    "           \n",
    "            ToWrite.append(lineElements[0][i])\n",
    "            \n",
    "            if i!=len(lineElements[0])-1:\n",
    "                ToWrite.append(' ')\n",
    "        \n",
    "        ToWrite.append('\\t')\n",
    "        for i in range(1,len(lineElements)):\n",
    "            ToWrite.append(lineElements[i])\n",
    "            if i!=len(lineElements)-1:\n",
    "                ToWrite.append(' ')\n",
    "            \n",
    "        ToWrite.append('\\n')\n",
    "        # print(ToWrite)\n",
    "        edited.write(''.join(ToWrite))"
   ]
  }
 ],
 "metadata": {
  "kernelspec": {
   "display_name": "Python 3.7.11 ('nlp_course')",
   "language": "python",
   "name": "python3"
  },
  "language_info": {
   "codemirror_mode": {
    "name": "ipython",
    "version": 3
   },
   "file_extension": ".py",
   "mimetype": "text/x-python",
   "name": "python",
   "nbconvert_exporter": "python",
   "pygments_lexer": "ipython3",
   "version": "3.7.11"
  },
  "orig_nbformat": 4,
  "vscode": {
   "interpreter": {
    "hash": "cdda3c4261235bbcba0b6b278865d13bd435bf12db268dd6c94b8ae8420f2872"
   }
  }
 },
 "nbformat": 4,
 "nbformat_minor": 2
}